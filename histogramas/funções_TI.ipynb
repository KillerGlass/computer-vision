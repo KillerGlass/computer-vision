{
 "cells": [
  {
   "cell_type": "code",
   "execution_count": 73,
   "id": "9fe80fc4-813c-4e89-b553-2bb25cfe004c",
   "metadata": {},
   "outputs": [],
   "source": [
    "from skimage.io import imread, imshow, imsave\n",
    "from skimage.color import rgb2gray\n",
    "import numpy as np\n",
    "import cv2\n",
    "import torch"
   ]
  },
  {
   "cell_type": "code",
   "execution_count": 74,
   "id": "4904d8c5-5a62-4d1c-9c0b-da24ccaf29cb",
   "metadata": {},
   "outputs": [],
   "source": [
    "def Alargamento_de_contraste(image, k, E):\n",
    "  return 1/(1 + (k/image)**E)"
   ]
  },
  {
   "cell_type": "code",
   "execution_count": 75,
   "id": "213d83b2-d8c9-4e3e-a1ae-215a8c534acd",
   "metadata": {},
   "outputs": [],
   "source": [
    "def negativo(image):\n",
    "  return 255 - image"
   ]
  },
  {
   "cell_type": "code",
   "execution_count": 76,
   "id": "cde12c0b-e4b0-4fe3-afa7-cf5be0c4ec5a",
   "metadata": {},
   "outputs": [],
   "source": [
    "def logaritmica(image, c):\n",
    "  return c * np.log(1 + image)"
   ]
  },
  {
   "cell_type": "code",
   "execution_count": 77,
   "id": "cb64ec0c-de41-4bf9-9f99-189395aa9896",
   "metadata": {},
   "outputs": [],
   "source": [
    "def potencia(image, gamma):\n",
    "  return (image / 255) ** gamma * 255"
   ]
  },
  {
   "cell_type": "code",
   "execution_count": 80,
   "id": "97ea625d",
   "metadata": {},
   "outputs": [
    {
     "data": {
      "image/png": "[encoded data removed]",
      "text/plain": [
       "<Figure size 360x360 with 1 Axes>"
      ]
     },
     "metadata": {
      "needs_background": "light"
     },
     "output_type": "display_data"
    }
   ],
   "source": [
    "import matplotlib.pyplot as plt\n",
    "from skimage.io import imsave, imread,imshow\n",
    "from skimage.color import rgb2gray\n",
    "\n",
    "\n",
    "img = imread('../training/glioma/glioma_29.jpg')\n",
    "\n",
    "img = rgb2gray(img)\n",
    "img_pre = potencia(img,10)\n",
    "\n",
    "plt.figure(figsize=(5,5))\n",
    "plt.imshow(img_pre,cmap='gray')\n",
    "plt.show()"
   ]
  }
 ],
 "metadata": {
  "kernelspec": {
   "display_name": "Python 3",
   "language": "python",
   "name": "python3"
  },
  "language_info": {
   "codemirror_mode": {
    "name": "ipython",
    "version": 3
   },
   "file_extension": ".py",
   "mimetype": "text/x-python",
   "name": "python",
   "nbconvert_exporter": "python",
   "pygments_lexer": "ipython3",
   "version": "3.10.6 (main, Nov 14 2022, 16:10:14) [GCC 11.3.0]"
  },
  "vscode": {
   "interpreter": {
    "hash": "916dbcbb3f70747c44a77c7bcd40155683ae19c65e1c03b4aa3499c5328201f1"
   }
  }
 },
 "nbformat": 4,
 "nbformat_minor": 5
}
