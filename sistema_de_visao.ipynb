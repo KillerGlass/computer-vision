{
 "cells": [
  {
   "attachments": {},
   "cell_type": "markdown",
   "metadata": {},
   "source": [
    "# Sistema de visão computacional"
   ]
  },
  {
   "cell_type": "code",
   "execution_count": 3,
   "metadata": {},
   "outputs": [],
   "source": [
    "from skimage.io import imread, imshow, imsave\n",
    "from skimage.color import rgb2gray\n",
    "from skimage import data, filters\n",
    "import numpy as np\n",
    "import cv2\n",
    "import glob\n"
   ]
  },
  {
   "attachments": {},
   "cell_type": "markdown",
   "metadata": {},
   "source": [
    "### 1. Pré-processamento"
   ]
  },
  {
   "cell_type": "code",
   "execution_count": null,
   "metadata": {},
   "outputs": [],
   "source": [
    "def crop_image(image):\n",
    "    \n",
    "    #gray = cv2.cvtColor(image, cv2.COLOR_BGR2GRAY)\n",
    "    gray = rgb2gray(image)\n",
    "\n",
    "    # Binariza a imagem\n",
    "    thresh_mean = filters.threshold_mean(gray)\n",
    "    binary_image = np.where(gray > thresh_mean, 255, 0).astype(np.uint8)\n",
    "    \n",
    "    contours, _ = cv2.findContours(binary_image, cv2.RETR_EXTERNAL, cv2.CHAIN_APPROX_SIMPLE)\n",
    "    \n",
    "    longest_contour = contours[0]\n",
    "    longest_length = len(longest_contour)\n",
    "    \n",
    "    # Percorrer os contornos e encontrar o mais longo\n",
    "    for contour in contours:\n",
    "        length = len(contour)\n",
    "        if length > longest_length:\n",
    "            longest_contour = contour\n",
    "            longest_length = length\n",
    "            \n",
    "    x, y, w, h = cv2.boundingRect(longest_contour)\n",
    "    image = image[y:y+h, x:x+w]\n",
    "\n",
    "    return image"
   ]
  },
  {
   "cell_type": "code",
   "execution_count": null,
   "metadata": {},
   "outputs": [],
   "source": [
    "# lista os arquivos do diretorio.\n",
    "tumor_paths = glob.glob()\n",
    "no_tumor_paths = glob.glob()"
   ]
  },
  {
   "cell_type": "code",
   "execution_count": null,
   "metadata": {},
   "outputs": [],
   "source": [
    "imgs_tumor = [imread(i) for i in tumor_paths]\n",
    "imgs_tumor_crop = [crop_image(img) for img in imgs_tumor]"
   ]
  }
 ],
 "metadata": {
  "kernelspec": {
   "display_name": "tevc",
   "language": "python",
   "name": "python3"
  },
  "language_info": {
   "codemirror_mode": {
    "name": "ipython",
    "version": 3
   },
   "file_extension": ".py",
   "mimetype": "text/x-python",
   "name": "python",
   "nbconvert_exporter": "python",
   "pygments_lexer": "ipython3",
   "version": "3.9.13"
  },
  "orig_nbformat": 4,
  "vscode": {
   "interpreter": {
    "hash": "59700c8d1a33eddc98a4292e5d0faa77f8b7f39010e074f2a189ee9a5d21e430"
   }
  }
 },
 "nbformat": 4,
 "nbformat_minor": 2
}
